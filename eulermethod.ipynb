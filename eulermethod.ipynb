{
 "cells": [
  {
   "cell_type": "code",
   "execution_count": 25,
   "metadata": {},
   "outputs": [],
   "source": [
    "import numpy as np\n",
    "import pandas as pd\n",
    "\n",
    "Pi =  3.14159\n",
    "C = 0.\n",
    "g = 9.8\n",
    "\n",
    "t = 0. \n",
    "xc = 0.\n",
    "yc = 0.                 #intial conditions\n",
    "vx = 5*np.cos(Pi/4.)\n",
    "vy = 5*np.sin(Pi/4.)\n",
    "step =0.01\n",
    "\n",
    "\n",
    "x=np.array([xc,yc]) #pos definition\n",
    "v=np.array([vx,vy]) #v definition\n",
    "a = -C*np.sqrt(v[0]**2+v[1]**2)*v - g*v  # a definition\n",
    "\n",
    "df = pd.DataFrame(columns = [\"time\", \"x\", \"y\", \"vx\", \"vy\" ])\n",
    "count = 0\n",
    "\n",
    "while (t < 10 and x[1] > yc):\n",
    "    df.at[count, \"time\"] = t\n",
    "    df.at[count, \"x\"] = x[0]\n",
    "    df.at[count, \"y\"] = x[1]\n",
    "    df.at[count, \"vx\"] = v[0]\n",
    "    df.at[count, \"vy\"] = v[1]\n",
    "    count+=1            \n",
    "    x += step * v\n",
    "    v += step * a \n",
    "    a = -C*np.sqrt(v[0]**2+v[1]**2)*v-g*v          #euler_methods\n",
    "    t += step\n",
    "    \n",
    "df.to_csv('euler.csv',index=False)\n",
    "    \n",
    "    \n",
    "\n",
    "    \n"
   ]
  },
  {
   "cell_type": "code",
   "execution_count": null,
   "metadata": {},
   "outputs": [],
   "source": []
  }
 ],
 "metadata": {
  "kernelspec": {
   "display_name": "Python 3",
   "language": "python",
   "name": "python3"
  },
  "language_info": {
   "codemirror_mode": {
    "name": "ipython",
    "version": 3
   },
   "file_extension": ".py",
   "mimetype": "text/x-python",
   "name": "python",
   "nbconvert_exporter": "python",
   "pygments_lexer": "ipython3",
   "version": "3.7.8"
  }
 },
 "nbformat": 4,
 "nbformat_minor": 4
}
