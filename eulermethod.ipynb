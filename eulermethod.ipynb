{
 "cells": [
  {
   "cell_type": "code",
   "execution_count": 58,
   "metadata": {},
   "outputs": [
    {
     "name": "stdout",
     "output_type": "stream",
     "text": [
      "[0.         0.         3.53553625 3.53553156]\n"
     ]
    },
    {
     "ename": "TypeError",
     "evalue": "write() argument must be str, not numpy.ndarray",
     "output_type": "error",
     "traceback": [
      "\u001b[0;31m---------------------------------------------------------------------------\u001b[0m",
      "\u001b[0;31mTypeError\u001b[0m                                 Traceback (most recent call last)",
      "\u001b[0;32m<ipython-input-58-51cd7308490d>\u001b[0m in \u001b[0;36m<module>\u001b[0;34m\u001b[0m\n\u001b[1;32m     27\u001b[0m         \u001b[0mprint\u001b[0m\u001b[0;34m(\u001b[0m\u001b[0mdata\u001b[0m\u001b[0;34m)\u001b[0m\u001b[0;34m\u001b[0m\u001b[0;34m\u001b[0m\u001b[0m\n\u001b[1;32m     28\u001b[0m \u001b[0;34m\u001b[0m\u001b[0m\n\u001b[0;32m---> 29\u001b[0;31m         \u001b[0mfile\u001b[0m\u001b[0;34m.\u001b[0m\u001b[0mwrite\u001b[0m\u001b[0;34m(\u001b[0m\u001b[0mdata\u001b[0m\u001b[0;34m)\u001b[0m\u001b[0;34m\u001b[0m\u001b[0;34m\u001b[0m\u001b[0m\n\u001b[0m\u001b[1;32m     30\u001b[0m         \u001b[0mfile\u001b[0m\u001b[0;34m.\u001b[0m\u001b[0mwrite\u001b[0m\u001b[0;34m(\u001b[0m\u001b[0;34m'\\n'\u001b[0m\u001b[0;34m)\u001b[0m\u001b[0;34m\u001b[0m\u001b[0;34m\u001b[0m\u001b[0m\n\u001b[1;32m     31\u001b[0m \u001b[0;34m\u001b[0m\u001b[0m\n",
      "\u001b[0;31mTypeError\u001b[0m: write() argument must be str, not numpy.ndarray"
     ]
    }
   ],
   "source": [
    "import numpy as np\n",
    "import csv\n",
    "\n",
    "Pi =  3.14159\n",
    "C = 0.011\n",
    "g = 9.8\n",
    "\n",
    "t = 0. \n",
    "xc = 0.\n",
    "yc = 0.                 #intial conditions\n",
    "vx = 5*np.cos(Pi/4.)\n",
    "vy = 5*np.sin(Pi/4)\n",
    "step =0.1\n",
    "\n",
    "x = [xc,yc]\n",
    "x=np.array(x)\n",
    "v = [vx,vy]  #v definition\n",
    "v=np.array(v)\n",
    "a = -C*np.sqrt(v[0]**2+v[1]**2)*v - g*v  # a definition\n",
    "\n",
    "with open('euler.csv', 'w', newline='') as file:\n",
    "    while t < 10.:\n",
    "        data = []\n",
    "        #data = data.append(t)\n",
    "        data = np.append(x,v)\n",
    "        data = np.array_str(data)\n",
    "        print(data)\n",
    "        \n",
    "        file.write(data)\n",
    "        file.write('\\n')\n",
    "            \n",
    "        x += step * v\n",
    "        v += step * a \n",
    "        a = -C*np.sqrt(v[0]**2+v[1]**2)*v-g*v          #euler_methods\n",
    "        t += step\n",
    "    \n",
    "file.close()\n",
    "    \n",
    "    \n",
    "\n",
    "    \n"
   ]
  },
  {
   "cell_type": "code",
   "execution_count": null,
   "metadata": {},
   "outputs": [],
   "source": []
  }
 ],
 "metadata": {
  "kernelspec": {
   "display_name": "Python 3",
   "language": "python",
   "name": "python3"
  },
  "language_info": {
   "codemirror_mode": {
    "name": "ipython",
    "version": 3
   },
   "file_extension": ".py",
   "mimetype": "text/x-python",
   "name": "python",
   "nbconvert_exporter": "python",
   "pygments_lexer": "ipython3",
   "version": "3.7.8"
  }
 },
 "nbformat": 4,
 "nbformat_minor": 4
}
