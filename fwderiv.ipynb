{
 "cells": [
  {
   "cell_type": "markdown",
   "metadata": {},
   "source": [
    "#Forward Derivative\n",
    "\n",
    "This is an implementation of the numerical forward derivative."
   ]
  },
  {
   "cell_type": "code",
   "execution_count": 32,
   "metadata": {},
   "outputs": [
    {
     "data": {
      "text/plain": [
       "array([ 1.11111111,  3.33333333,  5.55555556,  7.77777778, 10.        ,\n",
       "       12.22222222, 14.44444444, 16.66666667, 18.88888889])"
      ]
     },
     "execution_count": 32,
     "metadata": {},
     "output_type": "execute_result"
    }
   ],
   "source": [
    "import numpy as np\n",
    "\n",
    "def fwderiv(function,variable):\n",
    "    fwderiv = []\n",
    "    for i in range(0, len(variable)-1):\n",
    "        fwderiv.append((function[i+1]-function[i])/(variable[i+1]-variable[i]))\n",
    "    return np.array(fwderiv)\n",
    "\n",
    "var = np.linspace(0.,10.,num=10) #linspace make num points by an step (final-initial)/(num-1)\n",
    "xsquare = var**2                       \n",
    "                       \n",
    "fwderiv(xsquare,var)\n"
   ]
  },
  {
   "cell_type": "code",
   "execution_count": null,
   "metadata": {},
   "outputs": [],
   "source": []
  }
 ],
 "metadata": {
  "kernelspec": {
   "display_name": "Python 3",
   "language": "python",
   "name": "python3"
  },
  "language_info": {
   "codemirror_mode": {
    "name": "ipython",
    "version": 3
   },
   "file_extension": ".py",
   "mimetype": "text/x-python",
   "name": "python",
   "nbconvert_exporter": "python",
   "pygments_lexer": "ipython3",
   "version": "3.7.9"
  }
 },
 "nbformat": 4,
 "nbformat_minor": 4
}
