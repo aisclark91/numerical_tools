{
 "cells": [
  {
   "cell_type": "code",
   "execution_count": 13,
   "metadata": {},
   "outputs": [
    {
     "name": "stdin",
     "output_type": "stream",
     "text": [
      "Enter the size of the integer L 600\n"
     ]
    },
    {
     "name": "stdout",
     "output_type": "stream",
     "text": [
      "The Madelung constant M is\"  -1.7466031453918351\n"
     ]
    }
   ],
   "source": [
    "from math import sqrt\n",
    "\n",
    "def normalized_v(i,j,k):\n",
    "    if (i+j+k)%2 == 0:\n",
    "        V = 1/sqrt(i**2+j**2+k**2)\n",
    "    else:\n",
    "        V = -1/sqrt(i**2+j**2+k**2)\n",
    "    return V\n",
    "\n",
    "max_steps = int(input('Enter the size of the integer L'))\n",
    "s=0.\n",
    "\n",
    "for i in range(-max_steps,max_steps+1):\n",
    "    for j in range(-max_steps,max_steps+1):\n",
    "        for k in range(-max_steps,max_steps+1):\n",
    "            if (i==0 and j==0 and k==0):\n",
    "                continue\n",
    "            else:\n",
    "                s += normalized_v(i,j,k)\n",
    "            \n",
    "print('The Madelung constant M is\" ',s)"
   ]
  },
  {
   "cell_type": "markdown",
   "metadata": {},
   "source": [
    "First Attempt $L=100$: $-1.7418198158396654$\n",
    "\n",
    "Second Attempt $L=200$: $-1.7446850421707383$\n",
    "\n",
    "Third Attempt $L=300$: $-1.7456432959126562$\n",
    "\n",
    "Fourth Attempt $L=400$: $-1.746123021009531$\n",
    "\n",
    "Fifth Attempt $L=600$: $-1.7466031453918351$\n",
    "\n",
    "\n",
    "\n",
    "\n",
    "\n",
    "\n",
    "\n"
   ]
  },
  {
   "cell_type": "code",
   "execution_count": null,
   "metadata": {},
   "outputs": [],
   "source": []
  }
 ],
 "metadata": {
  "kernelspec": {
   "display_name": "Python 3",
   "language": "python",
   "name": "python3"
  },
  "language_info": {
   "codemirror_mode": {
    "name": "ipython",
    "version": 3
   },
   "file_extension": ".py",
   "mimetype": "text/x-python",
   "name": "python",
   "nbconvert_exporter": "python",
   "pygments_lexer": "ipython3",
   "version": "3.7.8"
  }
 },
 "nbformat": 4,
 "nbformat_minor": 4
}
