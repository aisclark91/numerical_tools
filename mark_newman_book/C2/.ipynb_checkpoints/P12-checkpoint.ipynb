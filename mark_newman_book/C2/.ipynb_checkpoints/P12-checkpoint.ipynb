{
 "cells": [
  {
   "cell_type": "code",
   "execution_count": null,
   "metadata": {},
   "outputs": [],
   "source": [
    "from math import sqrt\n",
    "\n",
    "def prime_third_criteria(n):\n",
    "    for i in range(2,int(sqrt(n))+1):\n",
    "        if n%i == 0:\n",
    "            return False\n",
    "            break\n",
    "    return True\n",
    "\n",
    "n = 100\n",
    "\n",
    "primes = []\n",
    "for i in range(2,n+1):\n",
    "    if prime_third_criteria(i):\n",
    "        primes.append(i)\n",
    "\n",
    "print(primes)\n",
    "# factors = []\n",
    "# k = 0\n",
    "\n",
    "# while k<int(sqrt(n)):\n",
    "#     if n in primes:\n",
    "#         print('The number {} is prime'.format(n))\n",
    "#         break\n",
    "#     if n%primes[k] != 0:\n",
    "#         primes.pop(k)        \n",
    "#         k += 1\n",
    "        \n",
    "# print(primes)  \n",
    "  \n",
    "\n"
   ]
  },
  {
   "cell_type": "code",
   "execution_count": null,
   "metadata": {},
   "outputs": [],
   "source": []
  }
 ],
 "metadata": {
  "kernelspec": {
   "display_name": "Python 3",
   "language": "python",
   "name": "python3"
  },
  "language_info": {
   "codemirror_mode": {
    "name": "ipython",
    "version": 3
   },
   "file_extension": ".py",
   "mimetype": "text/x-python",
   "name": "python",
   "nbconvert_exporter": "python",
   "pygments_lexer": "ipython3",
   "version": "3.7.8"
  }
 },
 "nbformat": 4,
 "nbformat_minor": 4
}
