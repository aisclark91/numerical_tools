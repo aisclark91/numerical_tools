{
 "cells": [
  {
   "cell_type": "code",
   "execution_count": null,
   "metadata": {},
   "outputs": [],
   "source": [
    "from math import sqrt, pi\n",
    "#from the conservation of energy\n",
    "G = 6.6738E-11\n",
    "M =1.9891E30\n",
    "\n",
    "\n",
    "\n",
    "class planets:\n",
    "    def __init__(self,v1,l1):\n",
    "        self.v1 = v1\n",
    "        self.l1 = l1\n",
    "        self.v2 = G*M/(v1*l1) - sqrt((G*M/(v1*l1))**2-v1**2+2*G*M/l1)\n",
    "        self.l2 = l1*v1/v2\n",
    "        \n",
    "    def semi_major_axis(self):\n",
    "        s = 1/2*(self.l1+self.l2)\n",
    "        return s\n",
    "    \n",
    "    def semi_minor_axis(self):\n",
    "        s = sqrt(self.l1*self.l2)\n",
    "        return s\n",
    "    \n",
    "    def orbital_period(self):\n",
    "        a = semi_major_axis(self)\n",
    "        b = semi_minor_axis(self)\n",
    "        o = 2*pi*a*b/(self.l1*self.l2)\n",
    "        return o\n",
    "    \n",
    "    def orbital_eccentricity(self):\n",
    "        e = (self.l2-self.l1)/(self.l2+self.l1)\n",
    "        return e\n",
    "\n",
    "\n",
    "\n",
    "v1 = 3.0287E4\n",
    "l1 = 1.4710E11\n",
    "\n",
    "earth = planets(v1,l1)\n",
    "\n",
    "\n",
    "v1 = 5.4529E4\n",
    "l1 = 8.7830E10\n",
    "\n",
    "haley = planets(v1,l1)\n",
    "\n",
    "print('The semi major axis of the Earth is: {}'.format(earth.semi_major_axis()))\n",
    "#print('The semi minor axis of the Earh is: {}'.format(earth.semi_minor_axis))\n",
    "#print('The')\n",
    "\n"
   ]
  }
 ],
 "metadata": {
  "kernelspec": {
   "display_name": "Python 3",
   "language": "python",
   "name": "python3"
  },
  "language_info": {
   "codemirror_mode": {
    "name": "ipython",
    "version": 3
   },
   "file_extension": ".py",
   "mimetype": "text/x-python",
   "name": "python",
   "nbconvert_exporter": "python",
   "pygments_lexer": "ipython3",
   "version": "3.7.8"
  }
 },
 "nbformat": 4,
 "nbformat_minor": 4
}
