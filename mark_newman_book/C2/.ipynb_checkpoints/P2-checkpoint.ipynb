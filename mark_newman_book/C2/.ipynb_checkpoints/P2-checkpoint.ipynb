{
 "cells": [
  {
   "cell_type": "code",
   "execution_count": 46,
   "metadata": {},
   "outputs": [
    {
     "name": "stdin",
     "output_type": "stream",
     "text": [
      "Enter the time interval [min]:  108\n"
     ]
    },
    {
     "name": "stdout",
     "output_type": "stream",
     "text": [
      "The altitude in [m] is 778182\n",
      "The difference in altitude in [m] between the sidereal day and a regular day is: 5360\n"
     ]
    }
   ],
   "source": [
    "#Enter the time interval in minutes\n",
    "T = float(input('Enter the time interval [min]: '))\n",
    "T=60*T\n",
    "\n",
    "#Using the Third Kepler law\n",
    "def h(period):\n",
    "    pass # definition of the altitude function\n",
    "    G = 6.67E-11\n",
    "    M = 5.97E24\n",
    "    R = 6.731E6\n",
    "    Pi = 3.142\n",
    "    h = (G*M*period**2/(4*Pi**2))**(1/3)-R\n",
    "    return h\n",
    "\n",
    "altitude = h(T)    \n",
    "print('The altitude in [m] is {0:.0f}'.format(altitude))\n",
    "\n",
    "# At 90[min] the height becomes negative and more negative as it goes below. From here we may conclude that we may obtain outputs that do not have physical meaning\n",
    "\n",
    "sid_day = 60*23.93\n",
    "day = 60*24\n",
    "\n",
    "\n",
    "diff = h(sid_day) - h(day)\n",
    "diff = abs(diff)\n",
    "\n",
    "print('The difference in altitude in [m] between the sidereal day and a regular day is: {0:.0f}'.format(diff))\n",
    "\n",
    "#The difference in altitude is 5360[m]"
   ]
  },
  {
   "cell_type": "code",
   "execution_count": null,
   "metadata": {},
   "outputs": [],
   "source": []
  }
 ],
 "metadata": {
  "kernelspec": {
   "display_name": "Python 3",
   "language": "python",
   "name": "python3"
  },
  "language_info": {
   "codemirror_mode": {
    "name": "ipython",
    "version": 3
   },
   "file_extension": ".py",
   "mimetype": "text/x-python",
   "name": "python",
   "nbconvert_exporter": "python",
   "pygments_lexer": "ipython3",
   "version": "3.7.8"
  }
 },
 "nbformat": 4,
 "nbformat_minor": 4
}
