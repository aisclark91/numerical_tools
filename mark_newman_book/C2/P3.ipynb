{
 "cells": [
  {
   "cell_type": "code",
   "execution_count": 13,
   "metadata": {},
   "outputs": [
    {
     "name": "stdin",
     "output_type": "stream",
     "text": [
      "Enter x:  1\n",
      "Enter y:  -1\n"
     ]
    },
    {
     "name": "stdout",
     "output_type": "stream",
     "text": [
      "(1.4142135623730951, 315.0)\n"
     ]
    }
   ],
   "source": [
    "from math import atan, sqrt, pi\n",
    "\n",
    "#We ask the user the theta and r quantities\n",
    "\n",
    "x = float(input('Enter x: '))\n",
    "y = float(input('Enter y: '))\n",
    "\n",
    "def polar_conversion(x,y):\n",
    "    r = sqrt(x**2+y**2)\n",
    "    if x > 0 and y > 0:\n",
    "        theta = atan(y/x)\n",
    "        theta = 180/pi*theta \n",
    "    elif x < 0 and y > 0:\n",
    "        theta = pi + atan(y/x)\n",
    "        theta = 180/pi*theta\n",
    "    elif x < 0 and y < 0:\n",
    "        theta = pi + atan(y/x)\n",
    "        theta = 180/pi*theta\n",
    "    elif x > 0 and y < 0:\n",
    "        theta = 2.*pi + atan(y/x)\n",
    "        theta = 180/pi*theta\n",
    "    elif x == 0 and y > 0:\n",
    "        theta = 90.\n",
    "    elif x == 0 and y < 0:\n",
    "        theta = 270.\n",
    "    elif x == 0 and y == 0:\n",
    "        theta = 'is not defined'\n",
    "    return (r,theta)\n",
    "\n",
    "polar_coord = polar_conversion(x,y)\n",
    "\n",
    "print(polar_coord)\n",
    "\n",
    "        "
   ]
  },
  {
   "cell_type": "code",
   "execution_count": null,
   "metadata": {},
   "outputs": [],
   "source": []
  },
  {
   "cell_type": "code",
   "execution_count": null,
   "metadata": {},
   "outputs": [],
   "source": []
  }
 ],
 "metadata": {
  "kernelspec": {
   "display_name": "Python 3",
   "language": "python",
   "name": "python3"
  },
  "language_info": {
   "codemirror_mode": {
    "name": "ipython",
    "version": 3
   },
   "file_extension": ".py",
   "mimetype": "text/x-python",
   "name": "python",
   "nbconvert_exporter": "python",
   "pygments_lexer": "ipython3",
   "version": "3.7.8"
  }
 },
 "nbformat": 4,
 "nbformat_minor": 4
}
