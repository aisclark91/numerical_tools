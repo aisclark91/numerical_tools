{
 "cells": [
  {
   "cell_type": "code",
   "execution_count": 1,
   "metadata": {},
   "outputs": [
    {
     "name": "stdout",
     "output_type": "stream",
     "text": [
      "[3. 3. 3. 3.]\n",
      "[1.         1.33333333 1.5        1.6       ]\n",
      "[1.         0.5        0.33333333 0.25      ]\n"
     ]
    }
   ],
   "source": [
    "from numpy import array\n",
    "\n",
    "a = array([1,2,3,4],int)\n",
    "b = array([2,4,6,8],int)\n",
    "\n",
    "print(b/a+1) #float np.array [3,3,3,3]\n",
    "print(b/(a+1)) #float np.array [1.0,1.2,1.5,1.6]\n",
    "print(1/a) #float np.array [1,0.5,0.3333,0.25]"
   ]
  },
  {
   "cell_type": "code",
   "execution_count": 2,
   "metadata": {},
   "outputs": [
    {
     "name": "stdout",
     "output_type": "stream",
     "text": [
      "[4 4 5]\n",
      "[4 4 5]\n"
     ]
    }
   ],
   "source": [
    "from numpy import array\n",
    "\n",
    "c = array([3,4,5],int)\n",
    "d = c\n",
    "c[0] = 4\n",
    "print(c)\n",
    "print(d)\n",
    "\n",
    "#This porblem happens with lists as well"
   ]
  },
  {
   "cell_type": "code",
   "execution_count": 4,
   "metadata": {},
   "outputs": [
    {
     "name": "stdout",
     "output_type": "stream",
     "text": [
      "[3, 4, 5]\n",
      "<class 'list'>\n",
      "<class 'numpy.ndarray'>\n",
      "[3 4 5]\n"
     ]
    }
   ],
   "source": [
    "c = [3,4,5]\n",
    "print(c)\n",
    "print(type(c))\n",
    "\n",
    "c = array(c,int)\n",
    "\n",
    "print(type(c))\n",
    "print(c)\n",
    "\n",
    "#the array() function can reuse the memory"
   ]
  },
  {
   "cell_type": "code",
   "execution_count": 6,
   "metadata": {},
   "outputs": [
    {
     "name": "stdout",
     "output_type": "stream",
     "text": [
      "[3. 4. 5.] [5. 6. 7.]\n"
     ]
    }
   ],
   "source": [
    "from numpy import array\n",
    "\n",
    "c = array([3,4,5],float)\n",
    "d = c + 2\n",
    "\n",
    "print(c,d)"
   ]
  },
  {
   "cell_type": "code",
   "execution_count": null,
   "metadata": {},
   "outputs": [],
   "source": []
  }
 ],
 "metadata": {
  "kernelspec": {
   "display_name": "Python 3",
   "language": "python",
   "name": "python3"
  },
  "language_info": {
   "codemirror_mode": {
    "name": "ipython",
    "version": 3
   },
   "file_extension": ".py",
   "mimetype": "text/x-python",
   "name": "python",
   "nbconvert_exporter": "python",
   "pygments_lexer": "ipython3",
   "version": "3.7.8"
  }
 },
 "nbformat": 4,
 "nbformat_minor": 4
}
