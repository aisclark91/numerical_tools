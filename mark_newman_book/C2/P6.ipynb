{
 "cells": [
  {
   "cell_type": "code",
   "execution_count": 17,
   "metadata": {},
   "outputs": [
    {
     "name": "stdout",
     "output_type": "stream",
     "text": [
      "The semi major axis of the Earth is: 1.496e+11\n",
      "The semi minor axis of the Earth is: 1.495e+11\n",
      "The Orbital Period of Earth is: 1.000e+00\n",
      "The Orbital Eccentricity of Earth is: 1.647e-02\n",
      "\n",
      "\n",
      "The semi major axis of Haley is: 2.685e+12\n",
      "The semi minor axis of Haley is: 6.811e+11\n",
      "The Orbital Period of Haley is: 7.608e+01\n",
      "The Orbital Eccentricity of Haley is: 9.673e-01\n"
     ]
    }
   ],
   "source": [
    "from math import sqrt, pi\n",
    "#from the conservation of energy\n",
    "G = 6.6738E-11\n",
    "M = 1.9891E30\n",
    "\n",
    "\n",
    "\n",
    "class planets:\n",
    "    def __init__(self,v1,l1):\n",
    "        self.v1 = v1\n",
    "        self.l1 = l1\n",
    "        self.v2 = G*M/(v1*l1) - sqrt((G*M/(v1*l1))**2+v1**2-2*G*M/l1)\n",
    "        self.l2 = l1*v1/self.v2\n",
    "        \n",
    "    def semi_major_axis(self):\n",
    "        s = 1/2*(self.l1+self.l2)\n",
    "        return s\n",
    "    \n",
    "    def semi_minor_axis(self):\n",
    "        s = sqrt(self.l1*self.l2)\n",
    "        return s\n",
    "    \n",
    "    def orbital_period(self):\n",
    "        a = self.semi_major_axis()\n",
    "        b = self.semi_minor_axis()\n",
    "        o = 2*pi*a*b/(self.v1*self.l1)\n",
    "        return o/(60*60*24*365)\n",
    "    \n",
    "    def orbital_eccentricity(self):\n",
    "        ecc = (self.l2-self.l1)/(self.l2 + self.l1)\n",
    "        return ecc\n",
    "\n",
    "v1 = 3.0287E4\n",
    "l1 = 1.4710E11\n",
    "\n",
    "earth = planets(v1,l1)\n",
    "\n",
    "\n",
    "v1 = 5.4529E4\n",
    "l1 = 8.7830E10\n",
    "\n",
    "haley = planets(v1,l1)\n",
    "\n",
    "print('The semi major axis of the Earth is: {:.3e}'.format(earth.semi_major_axis()))\n",
    "print('The semi minor axis of the Earth is: {:.3e}'.format(earth.semi_minor_axis()))\n",
    "print('The Orbital Period of Earth is: {:.3e}'.format(earth.orbital_period()))\n",
    "print('The Orbital Eccentricity of Earth is: {:.3e}'.format(earth.orbital_eccentricity()))\n",
    "\n",
    "print('\\n')\n",
    "\n",
    "print('The semi major axis of Haley is: {:.3e}'.format(haley.semi_major_axis()))\n",
    "print('The semi minor axis of Haley is: {:.3e}'.format(haley.semi_minor_axis()))\n",
    "print('The Orbital Period of Haley is: {:.3e}'.format(haley.orbital_period()))\n",
    "print('The Orbital Eccentricity of Haley is: {:.3e}'.format(haley.orbital_eccentricity()))\n",
    "\n",
    "\n"
   ]
  },
  {
   "cell_type": "code",
   "execution_count": null,
   "metadata": {},
   "outputs": [],
   "source": []
  }
 ],
 "metadata": {
  "kernelspec": {
   "display_name": "Python 3",
   "language": "python",
   "name": "python3"
  },
  "language_info": {
   "codemirror_mode": {
    "name": "ipython",
    "version": 3
   },
   "file_extension": ".py",
   "mimetype": "text/x-python",
   "name": "python",
   "nbconvert_exporter": "python",
   "pygments_lexer": "ipython3",
   "version": "3.7.8"
  }
 },
 "nbformat": 4,
 "nbformat_minor": 4
}
