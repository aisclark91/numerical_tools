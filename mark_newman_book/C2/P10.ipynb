{
 "cells": [
  {
   "cell_type": "code",
   "execution_count": 33,
   "metadata": {},
   "outputs": [
    {
     "name": "stdout",
     "output_type": "stream",
     "text": [
      "28\n"
     ]
    }
   ],
   "source": [
    "from math import inf\n",
    "# define mass formula\n",
    "def bind_energy(A,Z):\n",
    "    a1 = 15.8\n",
    "    a2 = 18.3\n",
    "    a3 = 0.714\n",
    "    a4 = 23.2\n",
    "    if A%2==1:\n",
    "        a5 = 0\n",
    "    elif A%2==0 and Z%2==0:\n",
    "        a5 = 12\n",
    "    else:\n",
    "        a5 = -12\n",
    "    B = a1*A - a2*A**(2/3) - a3*Z**2/A**(1/3) - a4*(A-2*Z)**2/A + a5/A**(1/2)\n",
    "    return B/A\n",
    "\n",
    "max_energy = -inf\n",
    "for Z in range(1,101):  \n",
    "    for A in range(Z,3*Z+1):\n",
    "        en_per_nucleon_1 = bind_energy(A,Z)\n",
    "        if en_per_nucleon_1 > max_energy:\n",
    "            global max_Z\n",
    "            max_energy = en_per_nucleon_1\n",
    "            max_Z = Z\n",
    "\n",
    "print(max_Z)\n",
    "\n"
   ]
  },
  {
   "cell_type": "code",
   "execution_count": null,
   "metadata": {},
   "outputs": [],
   "source": []
  }
 ],
 "metadata": {
  "kernelspec": {
   "display_name": "Python 3",
   "language": "python",
   "name": "python3"
  },
  "language_info": {
   "codemirror_mode": {
    "name": "ipython",
    "version": 3
   },
   "file_extension": ".py",
   "mimetype": "text/x-python",
   "name": "python",
   "nbconvert_exporter": "python",
   "pygments_lexer": "ipython3",
   "version": "3.7.8"
  }
 },
 "nbformat": 4,
 "nbformat_minor": 4
}
