{
 "cells": [
  {
   "cell_type": "code",
   "execution_count": 2,
   "metadata": {},
   "outputs": [
    {
     "name": "stdout",
     "output_type": "stream",
     "text": [
      "8.965199470901317e+56\n"
     ]
    }
   ],
   "source": [
    "def catalan_numbers(n):\n",
    "    if n==0: return 1\n",
    "    else:\n",
    "        return (4*n-2)/(n+1)*catalan_numbers(n-1)\n",
    "\n",
    "c_100 = catalan_numbers(100)\n",
    "print(c_100)"
   ]
  },
  {
   "cell_type": "code",
   "execution_count": 4,
   "metadata": {},
   "outputs": [
    {
     "name": "stdout",
     "output_type": "stream",
     "text": [
      "12\n"
     ]
    }
   ],
   "source": [
    "def euclid(n,m):\n",
    "    if n == 0: return m\n",
    "    else:\n",
    "        return euclid(m%n,n)\n",
    "\n",
    "gcd = euclid(108,192)\n",
    "print(gcd)"
   ]
  },
  {
   "cell_type": "code",
   "execution_count": null,
   "metadata": {},
   "outputs": [],
   "source": []
  }
 ],
 "metadata": {
  "kernelspec": {
   "display_name": "Python 3",
   "language": "python",
   "name": "python3"
  },
  "language_info": {
   "codemirror_mode": {
    "name": "ipython",
    "version": 3
   },
   "file_extension": ".py",
   "mimetype": "text/x-python",
   "name": "python",
   "nbconvert_exporter": "python",
   "pygments_lexer": "ipython3",
   "version": "3.7.8"
  }
 },
 "nbformat": 4,
 "nbformat_minor": 4
}
