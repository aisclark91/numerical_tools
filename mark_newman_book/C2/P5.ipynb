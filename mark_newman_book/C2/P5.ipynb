{
 "cells": [
  {
   "cell_type": "code",
   "execution_count": 9,
   "metadata": {},
   "outputs": [
    {
     "name": "stdout",
     "output_type": "stream",
     "text": [
      "The reflection and transmision coeficients are: 0.2699, 0.7301\n"
     ]
    }
   ],
   "source": [
    "from math import sqrt\n",
    "\n",
    "hbar = 6.582119569E-16\n",
    "\n",
    "E = 10 #inputs of the potential barrier\n",
    "V = 9\n",
    "m = 0.511E6\n",
    "\n",
    "k1 = sqrt(2*m*E/hbar) #defining the wave_vector_numbers\n",
    "k2 = sqrt(2*m*(E-V)/hbar)\n",
    "\n",
    "R = ((k1-k2)/(k1+k2))**2  #reflection and transmission coefficients\n",
    "T = 4*k1*k2/((k1+k2)**2)\n",
    "\n",
    "print('The reflection and transmision coeficients are: {0:.4f}, {1:.4f}'.format(R,T))"
   ]
  },
  {
   "cell_type": "code",
   "execution_count": null,
   "metadata": {},
   "outputs": [],
   "source": []
  }
 ],
 "metadata": {
  "kernelspec": {
   "display_name": "Python 3",
   "language": "python",
   "name": "python3"
  },
  "language_info": {
   "codemirror_mode": {
    "name": "ipython",
    "version": 3
   },
   "file_extension": ".py",
   "mimetype": "text/x-python",
   "name": "python",
   "nbconvert_exporter": "python",
   "pygments_lexer": "ipython3",
   "version": "3.7.8"
  }
 },
 "nbformat": 4,
 "nbformat_minor": 4
}
