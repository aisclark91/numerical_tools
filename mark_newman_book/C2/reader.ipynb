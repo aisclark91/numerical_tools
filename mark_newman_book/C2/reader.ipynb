{
 "cells": [
  {
   "cell_type": "code",
   "execution_count": 15,
   "metadata": {},
   "outputs": [
    {
     "name": "stdout",
     "output_type": "stream",
     "text": [
      "<class 'numpy.ndarray'>\n"
     ]
    }
   ],
   "source": [
    "from numpy import loadtxt\n",
    "a = loadtxt('float.txt',float)\n",
    "print(type(a))"
   ]
  },
  {
   "cell_type": "markdown",
   "metadata": {},
   "source": [
    "Now, let us compute the geometric average of a list $\\bar{x}=\\left(\\displaystyle \\prod_i^n x_i \\right)^{1/n}$. We may compute the logarithm on both sides and take the exponential again, \n",
    "$$\\bar{x}=\\exp \\left(\\dfrac{1}{n}\\sum_i^n \\log x_i\\right)$$"
   ]
  },
  {
   "cell_type": "code",
   "execution_count": 19,
   "metadata": {},
   "outputs": [
    {
     "name": "stdout",
     "output_type": "stream",
     "text": [
      "2.8964251884807477\n"
     ]
    }
   ],
   "source": [
    "from numpy import loadtxt, array\n",
    "from math import log,exp\n",
    "\n",
    "\n",
    "values = loadtxt('float.txt',float)\n",
    "logs = array(list(map(log,values)),float)\n",
    "geometric = exp(sum(logs)/len(logs))\n",
    "print(geometric)\n"
   ]
  },
  {
   "cell_type": "code",
   "execution_count": 20,
   "metadata": {},
   "outputs": [
    {
     "name": "stdout",
     "output_type": "stream",
     "text": [
      "2.8964251884807477\n"
     ]
    }
   ],
   "source": [
    "from numpy import loadtxt, array, log\n",
    "from math import exp\n",
    "\n",
    "values = loadtxt('float.txt',float)\n",
    "logs = log(values)\n",
    "geometric = exp(sum(logs)/len(logs))\n",
    "print(geometric)"
   ]
  },
  {
   "cell_type": "code",
   "execution_count": 21,
   "metadata": {},
   "outputs": [
    {
     "name": "stdout",
     "output_type": "stream",
     "text": [
      "1.0\n"
     ]
    }
   ],
   "source": []
  }
 ],
 "metadata": {
  "kernelspec": {
   "display_name": "Python 3",
   "language": "python",
   "name": "python3"
  },
  "language_info": {
   "codemirror_mode": {
    "name": "ipython",
    "version": 3
   },
   "file_extension": ".py",
   "mimetype": "text/x-python",
   "name": "python",
   "nbconvert_exporter": "python",
   "pygments_lexer": "ipython3",
   "version": "3.7.8"
  }
 },
 "nbformat": 4,
 "nbformat_minor": 4
}
