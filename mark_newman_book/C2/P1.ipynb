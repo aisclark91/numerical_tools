{
 "cells": [
  {
   "cell_type": "code",
   "execution_count": 3,
   "metadata": {},
   "outputs": [
    {
     "name": "stdin",
     "output_type": "stream",
     "text": [
      "Enter the initial height of the ball in [m]:  92\n"
     ]
    },
    {
     "name": "stdout",
     "output_type": "stream",
     "text": [
      "The flight-time of the ball in [s] is: 4.3\n"
     ]
    }
   ],
   "source": [
    "from math import sqrt\n",
    "\n",
    "# In this program we will compute the free falling time of a ball released from a height h.\n",
    "\n",
    "def flight_time(h):\n",
    "    g = 9.81\n",
    "    t = sqrt(2*h/g)\n",
    "    return t\n",
    "\n",
    "initial_height = float(input('Enter the initial height of the ball in [m]: '))\n",
    "\n",
    "t = flight_time(initial_height)\n",
    "\n",
    "print('The flight-time of the ball in [s] is: {0:.2}'.format(t))\n",
    "\n",
    "# The time of flight from a ball dropped from 100[m] is 4.5[s] ignoring air resistance"
   ]
  },
  {
   "cell_type": "code",
   "execution_count": null,
   "metadata": {},
   "outputs": [],
   "source": []
  }
 ],
 "metadata": {
  "kernelspec": {
   "display_name": "Python 3",
   "language": "python",
   "name": "python3"
  },
  "language_info": {
   "codemirror_mode": {
    "name": "ipython",
    "version": 3
   },
   "file_extension": ".py",
   "mimetype": "text/x-python",
   "name": "python",
   "nbconvert_exporter": "python",
   "pygments_lexer": "ipython3",
   "version": "3.7.8"
  }
 },
 "nbformat": 4,
 "nbformat_minor": 4
}
