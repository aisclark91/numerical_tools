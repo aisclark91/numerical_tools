{
 "cells": [
  {
   "cell_type": "code",
   "execution_count": 60,
   "metadata": {},
   "outputs": [
    {
     "name": "stdout",
     "output_type": "stream",
     "text": [
      "1 1  \n",
      "1 2 1  \n",
      "1 3 3 1  \n",
      "1 4 6 4 1  \n",
      "1 5 10 10 5 1  \n",
      "1 6 15 20 15 6 1  \n",
      "1 7 21 35 35 21 7 1  \n",
      "1 8 28 56 70 56 28 8 1  \n",
      "1 9 36 84 126 126 84 36 9 1  \n",
      "1 10 45 120 210 252 210 120 45 10 1  \n",
      " \n",
      "The probability of getting 60 heads out of 100 tossings is 0.011, The probability of getting more than 60 heads out of 100 tossings is 0.028\n"
     ]
    }
   ],
   "source": [
    "def binomial(n,k):\n",
    "    n_fact = 1\n",
    "    k_fact = 1\n",
    "    n_k_fact = 1\n",
    "    for i in range(1,n+1):\n",
    "        n_fact *= i\n",
    "    for j in range(1,k+1):\n",
    "        k_fact *= j\n",
    "    for l in range(1,n-k+1):\n",
    "        n_k_fact *= l\n",
    "    binom = n_fact/(n_k_fact*k_fact)\n",
    "    return int(binom)\n",
    "\n",
    "p = 10 # number of lines\n",
    "for n in range (1,p+1):\n",
    "    for i in range(0,n+1):\n",
    "        line = binomial(n,i)\n",
    "        print(line, end = ' ')\n",
    "    print(' ')\n",
    "    \n",
    "probability = binomial(100,60)/2**100\n",
    "\n",
    "cum_probability = 0\n",
    "for k in range(60,101):   \n",
    "    cum_probability += binomial(100,k)/2**100\n",
    "\n",
    "print(' ')    \n",
    "    \n",
    "print('The probability of getting 60 heads out of 100 tossings is {0:.3f}, \\\n",
    "The probability of getting more than 60 heads out of 100 tossings is {1:.3f}'.format(probability,cum_probability))"
   ]
  },
  {
   "cell_type": "code",
   "execution_count": null,
   "metadata": {},
   "outputs": [],
   "source": []
  }
 ],
 "metadata": {
  "kernelspec": {
   "display_name": "Python 3",
   "language": "python",
   "name": "python3"
  },
  "language_info": {
   "codemirror_mode": {
    "name": "ipython",
    "version": 3
   },
   "file_extension": ".py",
   "mimetype": "text/x-python",
   "name": "python",
   "nbconvert_exporter": "python",
   "pygments_lexer": "ipython3",
   "version": "3.7.8"
  }
 },
 "nbformat": 4,
 "nbformat_minor": 4
}
