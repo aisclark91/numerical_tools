{
 "cells": [
  {
   "cell_type": "code",
   "execution_count": 13,
   "metadata": {},
   "outputs": [
    {
     "name": "stdout",
     "output_type": "stream",
     "text": [
      "[7]\n"
     ]
    }
   ],
   "source": [
    "from math import sqrt\n",
    "\n",
    "def prime_third_criteria(n):\n",
    "    for i in range(2,int(sqrt(n))+1):\n",
    "        if n%i == 0:\n",
    "            return False\n",
    "            break\n",
    "    return True\n",
    "\n",
    "n = 35\n",
    "\n",
    "primes = []\n",
    "for i in range(2,n+1):\n",
    "    if prime_third_criteria(i):\n",
    "        primes.append(i)\n",
    "\n",
    "factors = []\n",
    "for k in range(0,int(sqrt(n))+1):\n",
    "    if n in primes:\n",
    "        factors = [n]\n",
    "        break\n",
    "    if n%primes[k] != 0:\n",
    "        factors.append(primes[k])\n",
    "        n //= primes[k]\n",
    "        \n",
    "print(factors)  \n",
    "  \n",
    "\n"
   ]
  },
  {
   "cell_type": "code",
   "execution_count": null,
   "metadata": {},
   "outputs": [],
   "source": []
  }
 ],
 "metadata": {
  "kernelspec": {
   "display_name": "Python 3",
   "language": "python",
   "name": "python3"
  },
  "language_info": {
   "codemirror_mode": {
    "name": "ipython",
    "version": 3
   },
   "file_extension": ".py",
   "mimetype": "text/x-python",
   "name": "python",
   "nbconvert_exporter": "python",
   "pygments_lexer": "ipython3",
   "version": "3.7.8"
  }
 },
 "nbformat": 4,
 "nbformat_minor": 4
}
