{
 "cells": [
  {
   "cell_type": "code",
   "execution_count": 4,
   "metadata": {},
   "outputs": [
    {
     "name": "stdin",
     "output_type": "stream",
     "text": [
      "Enter the distance between the earth and the planet in years-light x:  10\n",
      "Enter the velocity v of the spaceship in terms of a fraction of c:  0.99\n"
     ]
    },
    {
     "name": "stdout",
     "output_type": "stream",
     "text": [
      "\n",
      "\n",
      "The number of years measured by the ship is: 10.101\n",
      "The number of years measured by earth is: 71.604\n"
     ]
    }
   ],
   "source": [
    "from math import sqrt\n",
    "#defining the time t with respect to the earth observer\n",
    "\n",
    "proper_distance_earth_planet = float(input('Enter the distance between the earth and the planet in years-light x: '))\n",
    "velocity = float(input('Enter the velocity v of the spaceship in terms of a fraction of c: '))\n",
    "\n",
    "gamma = 1/sqrt(1 - velocity**2)\n",
    "proper_time_interval = proper_distance_earth_planet/velocity\n",
    "earth_time_interval = gamma * proper_time_interval\n",
    "\n",
    "print('\\n')\n",
    "print('The number of years measured by the ship is: {0:.3f}'.format(proper_time_interval))\n",
    "print('The number of years measured by earth is: {0:.3f}'.format(earth_time_interval))\n",
    "\n"
   ]
  },
  {
   "cell_type": "code",
   "execution_count": null,
   "metadata": {},
   "outputs": [],
   "source": []
  }
 ],
 "metadata": {
  "kernelspec": {
   "display_name": "Python 3",
   "language": "python",
   "name": "python3"
  },
  "language_info": {
   "codemirror_mode": {
    "name": "ipython",
    "version": 3
   },
   "file_extension": ".py",
   "mimetype": "text/x-python",
   "name": "python",
   "nbconvert_exporter": "python",
   "pygments_lexer": "ipython3",
   "version": "3.7.8"
  }
 },
 "nbformat": 4,
 "nbformat_minor": 4
}
